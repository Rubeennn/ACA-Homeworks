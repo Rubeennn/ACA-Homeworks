{
 "cells": [
  {
   "cell_type": "code",
   "execution_count": 4,
   "id": "3ed32e07",
   "metadata": {},
   "outputs": [],
   "source": [
    "import numpy as np\n",
    "from sklearn.metrics import pairwise_distances\n",
    "from sklearn.datasets import make_blobs"
   ]
  },
  {
   "cell_type": "code",
   "execution_count": 14,
   "id": "48c6b714",
   "metadata": {},
   "outputs": [],
   "source": [
    "class SNE:\n",
    "    def __init__(self, n_components, perplexity):\n",
    "        self.n_components = n_components\n",
    "        self.perplexity = perplexity\n",
    "        \n",
    "    def fit(self, X):\n",
    "        C = 0\n",
    "        sigma = 1\n",
    "        p = np.zeros((X.shape[0],X.shape[0]))\n",
    "\n",
    "        p_s = np.zeros((X.shape[0],X.shape[0]))\n",
    "        np.random.seed = 11\n",
    "        q = np.random.rand(X.shape[0],self.n_components)\n",
    "        Q = np.zeros((X.shape[0],X.shape[0]))\n",
    "        \n",
    "        for i in range(X.shape[0]):\n",
    "            for j in range(X.shape[0]):\n",
    "                if i != j:\n",
    "                    p[j][i] = (np.exp(-1 * ((np.linalg.norm(X[i] - X[j]) ** 2) / (2))))\n",
    "                   \n",
    "                \n",
    "                \n",
    "        p = p / np.sum(p, axis=1, keepdims=True)\n",
    "        \n",
    "        p_s = (p + p.T) / (2 * X.shape[0])\n",
    "#         print(p_s)\n",
    "#         for i in range(X.shape[0]):\n",
    "#             while abs(self.perplexity - 2 ** (np.sum(p_s[i] * np.log2(p_s[i]))) > 2:\n",
    "#                 pass\n",
    "        \n",
    "\n",
    "        \n",
    "        for i in range(X.shape[0]):\n",
    "            for j in range(X.shape[0]):\n",
    "                if i != j:\n",
    "                    Q[i][j] = np.exp(-1 * np.linalg.norm(q[i] - q[j]) ** 2)             \n",
    "                else:\n",
    "                    Q[i][i] = 0\n",
    "                \n",
    "        Q = Q / np.sum(Q, axis=1, keepdims=True)\n",
    "        \n",
    "        for i in range(X.shape[0]):\n",
    "            for j in range(X.shape[0]):\n",
    "                if i != j:\n",
    "                    C += p_s[i][j] * np.log(p_s[i][j] / Q[i][j] + np.finfo(float).eps)        \n",
    "        return C\n"
   ]
  },
  {
   "cell_type": "code",
   "execution_count": 15,
   "id": "e530f1a0",
   "metadata": {},
   "outputs": [],
   "source": [
    "t = SNE(n_components=4,perplexity=50)\n",
    "X = np.array([[1,2,3,4,5],[2,3,4,5,6],[7,8,9,5,6],[5,3,2,1,0],[5,6,5,4,2]])"
   ]
  },
  {
   "cell_type": "code",
   "execution_count": 16,
   "id": "c80bc960",
   "metadata": {},
   "outputs": [
    {
     "data": {
      "text/plain": [
       "-0.16789974326603607"
      ]
     },
     "execution_count": 16,
     "metadata": {},
     "output_type": "execute_result"
    }
   ],
   "source": [
    "t.fit(X)"
   ]
  },
  {
   "cell_type": "code",
   "execution_count": null,
   "id": "de5993d8",
   "metadata": {},
   "outputs": [],
   "source": []
  }
 ],
 "metadata": {
  "kernelspec": {
   "display_name": "Python 3 (ipykernel)",
   "language": "python",
   "name": "python3"
  },
  "language_info": {
   "codemirror_mode": {
    "name": "ipython",
    "version": 3
   },
   "file_extension": ".py",
   "mimetype": "text/x-python",
   "name": "python",
   "nbconvert_exporter": "python",
   "pygments_lexer": "ipython3",
   "version": "3.10.11"
  }
 },
 "nbformat": 4,
 "nbformat_minor": 5
}
