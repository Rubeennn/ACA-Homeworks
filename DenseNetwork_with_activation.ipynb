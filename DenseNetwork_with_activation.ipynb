{
 "cells": [
  {
   "cell_type": "code",
   "execution_count": 221,
   "id": "2179259b",
   "metadata": {},
   "outputs": [],
   "source": [
    "import numpy as np\n"
   ]
  },
  {
   "cell_type": "code",
   "execution_count": 222,
   "id": "54488ec1",
   "metadata": {},
   "outputs": [],
   "source": [
    "class DenseLayer:\n",
    "    def __init__(self, input_size, output_size, activation):\n",
    "        np.random.seed(0)\n",
    "        self.weights = np.random.randn(input_size, output_size) * 0.01\n",
    "        self.biases = np.zeros(output_size)\n",
    "        self.activation = activation\n",
    "    \n",
    "    def forward(self, inputs):\n",
    "        self.inputs = inputs\n",
    "        self.output = np.dot(inputs, self.weights) + self.biases\n",
    "        \n",
    "        if self.activation == 'sigmoid':\n",
    "            self.output = 1 / (1 + np.exp(-1 * (self.output)))\n",
    "            \n",
    "        elif self.activation == 'relu':\n",
    "            self.output = np.maximum(self.output, 0)\n",
    "            \n",
    "        return self.output\n",
    "    \n",
    "    def backward(self, grad_output, learning_rate):\n",
    "        \n",
    "        if self.activation == 'sigmoid':\n",
    "            intermediate = grad_output * (1 - grad_output)   \n",
    "            \n",
    "        elif self.activation == 'relu':\n",
    "            intermediate = np.where(grad_output > 0, 1, 0)\n",
    "            \n",
    "        else:\n",
    "            intermediate = grad_output\n",
    "            \n",
    "\n",
    "        grad_weights = np.dot(self.inputs.T, intermediate)\n",
    "        grad_biases = np.sum(intermediate, axis=0)\n",
    "        \n",
    "\n",
    "        grad_input = np.dot(intermediate, self.weights.T)\n",
    "\n",
    "\n",
    "        self.weights -= learning_rate * grad_weights\n",
    "        self.biases -= learning_rate * grad_biases\n",
    "        \n",
    "        return grad_input\n",
    "    \n"
   ]
  },
  {
   "cell_type": "code",
   "execution_count": 223,
   "id": "1a044a57",
   "metadata": {},
   "outputs": [],
   "source": [
    "class DenseNetwork:\n",
    "    def __init__(self):\n",
    "        self.layers = []\n",
    "    \n",
    "    def add_layer(self, layer):\n",
    "        self.layers.append(layer)\n",
    "    \n",
    "    def forward(self, inputs):\n",
    "        for layer in self.layers:\n",
    "            inputs = layer.forward(inputs)\n",
    "        return inputs\n",
    "    \n",
    "    def backward(self, grad_output, learning_rate):\n",
    "        for layer in reversed(self.layers):\n",
    "            grad_output = layer.backward(grad_output, learning_rate)"
   ]
  },
  {
   "cell_type": "code",
   "execution_count": null,
   "id": "23295fa4",
   "metadata": {},
   "outputs": [],
   "source": []
  }
 ],
 "metadata": {
  "kernelspec": {
   "display_name": "Python 3 (ipykernel)",
   "language": "python",
   "name": "python3"
  },
  "language_info": {
   "codemirror_mode": {
    "name": "ipython",
    "version": 3
   },
   "file_extension": ".py",
   "mimetype": "text/x-python",
   "name": "python",
   "nbconvert_exporter": "python",
   "pygments_lexer": "ipython3",
   "version": "3.10.11"
  }
 },
 "nbformat": 4,
 "nbformat_minor": 5
}
